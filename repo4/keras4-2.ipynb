{
 "cells": [
  {
   "cell_type": "markdown",
   "metadata": {},
   "source": [
    "この課題では、\n",
    "人工知能に関する断創録\n",
    "http://aidiary.hatenablog.com/entry/20170108/1483876657\n",
    "\n",
    "Kerasによる、ものすごくシンプルな画像分類\n",
    "http://qiita.com/hiroeorz@github/items/ecb39ed4042ebdc0a957\n",
    "を参考にした\n"
   ]
  },
  {
   "cell_type": "code",
   "execution_count": 2,
   "metadata": {},
   "outputs": [
    {
     "name": "stderr",
     "output_type": "stream",
     "text": [
      "Using TensorFlow backend.\n"
     ]
    }
   ],
   "source": [
    "import os\n",
    "from keras.applications.vgg16 import VGG16\n",
    "from keras.preprocessing.image import ImageDataGenerator\n",
    "from keras.models import Sequential\n",
    "from keras.layers import Activation, Dropout, Flatten, Dense\n",
    "from keras import optimizers\n",
    "import numpy as np\n",
    "from PIL import Image\n",
    "import os\n",
    "from keras.optimizers import Adam\n",
    "from keras.utils.np_utils import to_categorical"
   ]
  },
  {
   "cell_type": "code",
   "execution_count": 3,
   "metadata": {},
   "outputs": [],
   "source": [
    "img_width, img_height = 150, 150\n",
    "train_data_dir = '/home/yanai-lab/sugiya-y/space/study/keras/repo4/data/train'\n",
    "validation_data_dir = '/home/yanai-lab/sugiya-y/space/study/keras/repo4/data/validation'\n",
    "nb_train_samples = 2000\n",
    "nb_validation_samples = 800\n",
    "nb_epoch = 20"
   ]
  },
  {
   "cell_type": "code",
   "execution_count": 4,
   "metadata": {},
   "outputs": [],
   "source": [
    "result_dir = '/home/yanai-lab/sugiya-y/space/study/keras/repo4/results'"
   ]
  },
  {
   "cell_type": "code",
   "execution_count": 5,
   "metadata": {},
   "outputs": [],
   "source": [
    "def save_history(history, result_file):\n",
    "    loss = history.history['loss']\n",
    "    acc = history.history['acc']\n",
    "    val_loss = history.history['val_loss']\n",
    "    val_acc = history.history['val_acc']\n",
    "    nb_epoch = len(acc)\n",
    "\n",
    "    with open(result_file, \"w\") as fp:\n",
    "        fp.write(\"epoch\\tloss\\tacc\\tval_loss\\tval_acc\\n\")\n",
    "        for i in range(nb_epoch):\n",
    "            fp.write(\"%d\\t%f\\t%f\\t%f\\t%f\\n\" % (i, loss[i], acc[i], val_loss[i], val_acc[i]))"
   ]
  },
  {
   "cell_type": "code",
   "execution_count": 33,
   "metadata": {},
   "outputs": [
    {
     "name": "stdout",
     "output_type": "stream",
     "text": [
      "(2000, 150, 150, 3)\n"
     ]
    }
   ],
   "source": [
    "train_image = []\n",
    "train_label = []\n",
    "val_image = []\n",
    "val_label = []\n",
    "\n",
    "# ./data/train 以下のcat,dogディレクトリ以下の画像を読み込む。\n",
    "for dir in os.listdir(\"/home/yanai-lab/sugiya-y/space/study/keras/repo4/data/train\"):\n",
    "    if dir == \".DS_Store\":\n",
    "        continue\n",
    "\n",
    "    dir1 = \"/home/yanai-lab/sugiya-y/space/study/keras/repo4/data/train/\" + dir \n",
    "    label = 0\n",
    "\n",
    "    if dir == \"cats\":\n",
    "        label = 0\n",
    "    elif dir == \"dogs\":\n",
    "        label = 1\n",
    "\n",
    "    for file in os.listdir(dir1):\n",
    "        if file != \".DS_Store\":\n",
    "            train_label.append(label)\n",
    "            filepath = dir1 + \"/\" + file\n",
    "           \n",
    "            image = np.array(Image.open(filepath).resize((150, 150)))\n",
    "            image = image.astype(\"float32\")\n",
    "            # 出来上がった配列をimage_listに追加。\n",
    "            train_image.append(image / 255.)\n",
    "\n",
    "# kerasに渡すためにnumpy配列に変換。\n",
    "train_image = np.array(train_image)\n",
    "\n",
    "Y_train = to_categorical(train_label)\n",
    "print(train_image.shape)"
   ]
  },
  {
   "cell_type": "code",
   "execution_count": 34,
   "metadata": {},
   "outputs": [
    {
     "name": "stdout",
     "output_type": "stream",
     "text": [
      "(800, 150, 150, 3)\n"
     ]
    }
   ],
   "source": [
    "# ./data/train 以下のcat,dogディレクトリ以下の画像を読み込む。\n",
    "for dir in os.listdir(\"/home/yanai-lab/sugiya-y/space/study/keras/repo4/data/validation\"):\n",
    "    if dir == \".DS_Store\":\n",
    "        continue\n",
    "\n",
    "    dir1 = \"/home/yanai-lab/sugiya-y/space/study/keras/repo4/data/validation/\" + dir \n",
    "    label = 0\n",
    "\n",
    "    if dir == \"cats\":\n",
    "        label = 0\n",
    "    elif dir == \"dogs\":\n",
    "        label = 1\n",
    "\n",
    "    for file in os.listdir(dir1):\n",
    "        if file != \".DS_Store\":\n",
    "            val_label.append(label)\n",
    "            filepath = dir1 + \"/\" + file\n",
    "           \n",
    "            image = np.array(Image.open(filepath).resize((150, 150)))\n",
    "            image = image.astype(\"float32\")\n",
    "            # 出来上がった配列をimage_listに追加。\n",
    "            val_image.append(image / 255.)\n",
    "\n",
    "# kerasに渡すためにnumpy配列に変換。\n",
    "val_image = np.array(val_image)\n",
    "\n",
    "Y_val = to_categorical(val_label)\n",
    "print(val_image.shape)"
   ]
  },
  {
   "cell_type": "code",
   "execution_count": 23,
   "metadata": {},
   "outputs": [
    {
     "name": "stdout",
     "output_type": "stream",
     "text": [
      "_________________________________________________________________\n",
      "Layer (type)                 Output Shape              Param #   \n",
      "=================================================================\n",
      "input_4 (InputLayer)         (None, 150, 150, 3)       0         \n",
      "_________________________________________________________________\n",
      "block1_conv1 (Conv2D)        (None, 150, 150, 64)      1792      \n",
      "_________________________________________________________________\n",
      "block1_conv2 (Conv2D)        (None, 150, 150, 64)      36928     \n",
      "_________________________________________________________________\n",
      "block1_pool (MaxPooling2D)   (None, 75, 75, 64)        0         \n",
      "_________________________________________________________________\n",
      "block2_conv1 (Conv2D)        (None, 75, 75, 128)       73856     \n",
      "_________________________________________________________________\n",
      "block2_conv2 (Conv2D)        (None, 75, 75, 128)       147584    \n",
      "_________________________________________________________________\n",
      "block2_pool (MaxPooling2D)   (None, 37, 37, 128)       0         \n",
      "_________________________________________________________________\n",
      "block3_conv1 (Conv2D)        (None, 37, 37, 256)       295168    \n",
      "_________________________________________________________________\n",
      "block3_conv2 (Conv2D)        (None, 37, 37, 256)       590080    \n",
      "_________________________________________________________________\n",
      "block3_conv3 (Conv2D)        (None, 37, 37, 256)       590080    \n",
      "_________________________________________________________________\n",
      "block3_pool (MaxPooling2D)   (None, 18, 18, 256)       0         \n",
      "_________________________________________________________________\n",
      "block4_conv1 (Conv2D)        (None, 18, 18, 512)       1180160   \n",
      "_________________________________________________________________\n",
      "block4_conv2 (Conv2D)        (None, 18, 18, 512)       2359808   \n",
      "_________________________________________________________________\n",
      "block4_conv3 (Conv2D)        (None, 18, 18, 512)       2359808   \n",
      "_________________________________________________________________\n",
      "block4_pool (MaxPooling2D)   (None, 9, 9, 512)         0         \n",
      "_________________________________________________________________\n",
      "block5_conv1 (Conv2D)        (None, 9, 9, 512)         2359808   \n",
      "_________________________________________________________________\n",
      "block5_conv2 (Conv2D)        (None, 9, 9, 512)         2359808   \n",
      "_________________________________________________________________\n",
      "block5_conv3 (Conv2D)        (None, 9, 9, 512)         2359808   \n",
      "_________________________________________________________________\n",
      "block5_pool (MaxPooling2D)   (None, 4, 4, 512)         0         \n",
      "=================================================================\n",
      "Total params: 14,714,688\n",
      "Trainable params: 14,714,688\n",
      "Non-trainable params: 0\n",
      "_________________________________________________________________\n"
     ]
    }
   ],
   "source": [
    "model = VGG16(include_top=False, weights='imagenet', input_shape=(150,150,3))\n",
    "model.summary()"
   ]
  },
  {
   "cell_type": "code",
   "execution_count": 35,
   "metadata": {},
   "outputs": [],
   "source": [
    "bottleneck_features_train = model.predict(train_image)\n",
    "bottleneck_features_validation = model.predict(val_image)"
   ]
  },
  {
   "cell_type": "code",
   "execution_count": 36,
   "metadata": {},
   "outputs": [
    {
     "name": "stdout",
     "output_type": "stream",
     "text": [
      "(2000, 4, 4, 512)\n",
      "(800, 4, 4, 512)\n"
     ]
    }
   ],
   "source": [
    "print(bottleneck_features_train.shape)\n",
    "print(bottleneck_features_validation.shape)"
   ]
  },
  {
   "cell_type": "code",
   "execution_count": 38,
   "metadata": {},
   "outputs": [],
   "source": [
    "result_dir = '/home/yanai-lab/sugiya-y/space/study/keras/repo4/results'\n",
    "np.save(os.path.join(result_dir, 'bottleneck_features_train.npy'),\n",
    "            bottleneck_features_train)\n",
    "np.save(os.path.join(result_dir, 'bottleneck_features_validation.npy'),\n",
    "            bottleneck_features_validation)"
   ]
  },
  {
   "cell_type": "code",
   "execution_count": 39,
   "metadata": {},
   "outputs": [
    {
     "name": "stdout",
     "output_type": "stream",
     "text": [
      "_________________________________________________________________\n",
      "Layer (type)                 Output Shape              Param #   \n",
      "=================================================================\n",
      "flatten_1 (Flatten)          (None, 8192)              0         \n",
      "_________________________________________________________________\n",
      "dense_1 (Dense)              (None, 256)               2097408   \n",
      "_________________________________________________________________\n",
      "activation_1 (Activation)    (None, 256)               0         \n",
      "_________________________________________________________________\n",
      "dropout_1 (Dropout)          (None, 256)               0         \n",
      "_________________________________________________________________\n",
      "dense_2 (Dense)              (None, 2)                 514       \n",
      "_________________________________________________________________\n",
      "activation_2 (Activation)    (None, 2)                 0         \n",
      "=================================================================\n",
      "Total params: 2,097,922\n",
      "Trainable params: 2,097,922\n",
      "Non-trainable params: 0\n",
      "_________________________________________________________________\n"
     ]
    }
   ],
   "source": [
    "my_model = Sequential()\n",
    "my_model.add(Flatten(input_shape=bottleneck_features_train.shape[1:]))\n",
    "my_model.add(Dense(256))\n",
    "my_model.add(Activation('relu'))\n",
    "my_model.add(Dropout(0.5))\n",
    "my_model.add(Dense(2))\n",
    "my_model.add(Activation('softmax'))\n",
    "\n",
    "my_model.summary()"
   ]
  },
  {
   "cell_type": "code",
   "execution_count": 41,
   "metadata": {},
   "outputs": [],
   "source": [
    "my_model.compile(loss='binary_crossentropy',optimizer=Adam(),metrics=['accuracy'])"
   ]
  },
  {
   "cell_type": "code",
   "execution_count": 43,
   "metadata": {},
   "outputs": [
    {
     "name": "stdout",
     "output_type": "stream",
     "text": [
      "Train on 1800 samples, validate on 200 samples\n",
      "Epoch 1/20\n",
      "0s - loss: 0.4887 - acc: 0.8006 - val_loss: 0.7523 - val_acc: 0.6050\n",
      "Epoch 2/20\n",
      "0s - loss: 0.2583 - acc: 0.8878 - val_loss: 0.1612 - val_acc: 0.9450\n",
      "Epoch 3/20\n",
      "0s - loss: 0.1973 - acc: 0.9178 - val_loss: 0.3428 - val_acc: 0.8400\n",
      "Epoch 4/20\n",
      "0s - loss: 0.1452 - acc: 0.9422 - val_loss: 0.2412 - val_acc: 0.9150\n",
      "Epoch 5/20\n",
      "0s - loss: 0.1343 - acc: 0.9511 - val_loss: 0.3258 - val_acc: 0.8550\n",
      "Epoch 6/20\n",
      "0s - loss: 0.1061 - acc: 0.9589 - val_loss: 0.2659 - val_acc: 0.9000\n",
      "Epoch 7/20\n",
      "0s - loss: 0.0791 - acc: 0.9711 - val_loss: 0.2237 - val_acc: 0.9200\n",
      "Epoch 8/20\n",
      "0s - loss: 0.0689 - acc: 0.9772 - val_loss: 0.3083 - val_acc: 0.8600\n",
      "Epoch 9/20\n",
      "0s - loss: 0.0645 - acc: 0.9772 - val_loss: 0.6362 - val_acc: 0.7600\n",
      "Epoch 10/20\n",
      "0s - loss: 0.0702 - acc: 0.9761 - val_loss: 0.1815 - val_acc: 0.9350\n",
      "Epoch 11/20\n",
      "0s - loss: 0.0522 - acc: 0.9800 - val_loss: 0.5044 - val_acc: 0.8100\n",
      "Epoch 12/20\n",
      "0s - loss: 0.0540 - acc: 0.9839 - val_loss: 0.6782 - val_acc: 0.7750\n",
      "Epoch 13/20\n",
      "0s - loss: 0.0361 - acc: 0.9861 - val_loss: 0.4310 - val_acc: 0.8450\n",
      "Epoch 14/20\n",
      "0s - loss: 0.0275 - acc: 0.9911 - val_loss: 0.6462 - val_acc: 0.7950\n",
      "Epoch 15/20\n",
      "0s - loss: 0.0410 - acc: 0.9828 - val_loss: 0.1960 - val_acc: 0.9350\n",
      "Epoch 16/20\n",
      "0s - loss: 0.0258 - acc: 0.9911 - val_loss: 0.5542 - val_acc: 0.8350\n",
      "Epoch 17/20\n",
      "0s - loss: 0.0165 - acc: 0.9967 - val_loss: 0.5048 - val_acc: 0.8400\n",
      "Epoch 18/20\n",
      "0s - loss: 0.0160 - acc: 0.9956 - val_loss: 0.5826 - val_acc: 0.8250\n",
      "Epoch 19/20\n",
      "0s - loss: 0.0231 - acc: 0.9922 - val_loss: 0.4079 - val_acc: 0.8800\n",
      "Epoch 20/20\n",
      "0s - loss: 0.0236 - acc: 0.9928 - val_loss: 0.4133 - val_acc: 0.8750\n"
     ]
    }
   ],
   "source": [
    "batch_size = 32\n",
    "epochs = 20\n",
    "history = my_model.fit(bottleneck_features_train,Y_train,batch_size=batch_size,\n",
    "                      epochs=epochs,\n",
    "                      validation_split=0.1,\n",
    "                      verbose=2)"
   ]
  },
  {
   "cell_type": "code",
   "execution_count": 45,
   "metadata": {},
   "outputs": [
    {
     "data": {
      "image/png": "[encoded data removed]",
      "text/plain": [
       "<matplotlib.figure.Figure at 0x7f8f72da0ed0>"
      ]
     },
     "metadata": {},
     "output_type": "display_data"
    },
    {
     "data": {
      "image/png": "[encoded data removed]",
      "text/plain": [
       "<matplotlib.figure.Figure at 0x7f8f70658390>"
      ]
     },
     "metadata": {},
     "output_type": "display_data"
    }
   ],
   "source": [
    "%matplotlib inline\n",
    "import matplotlib.pyplot as plt\n",
    "\n",
    "\n",
    "plt.plot(history.history['acc'])\n",
    "plt.plot(history.history['val_acc'])\n",
    "plt.title('model accuracy')\n",
    "plt.ylabel('accuracy')\n",
    "plt.xlabel('epoch')\n",
    "plt.legend(['train', 'val'], loc='upper left')\n",
    "plt.show()\n",
    "\n",
    "#loss\n",
    "plt.plot(history.history['loss'])\n",
    "plt.plot(history.history['val_loss'])\n",
    "plt.title('model loss')\n",
    "plt.ylabel('loss')\n",
    "plt.xlabel('epoch')\n",
    "plt.legend(['train', 'val'], loc='upper left')\n",
    "plt.show()"
   ]
  },
  {
   "cell_type": "code",
   "execution_count": 49,
   "metadata": {},
   "outputs": [],
   "source": [
    "model.save_weights(os.path.join(result_dir, 'bottleneck_fc_model.h5'))\n",
    "save_history(history, os.path.join(result_dir, 'history_extractor.txt'))\n"
   ]
  },
  {
   "cell_type": "markdown",
   "metadata": {},
   "source": [
    "　CNNをスクラッチで作成した時と比べて、飛躍的に精度が向上したことが明らかに分かった。\n",
    " また、学習にかかった時間も、CNNの時と比べて早かった。ただし、これにに関しては少し疑問が残っていて、\n",
    " Generator関数を使用した際に動作が遅くなってしまう、ということが考えられる。これを今回は使用していないために、高速に動作した、ということも考えられる。\n",
    "　原因としては、GeneratorはGPUで動作せずにCPU駆動である、Generatorは行列を無限に生成するために無駄なメモリを使用していた、などを考えている。\n",
    "　実装に必須な関数ではなく、コードを簡潔に書くためだけの関数なので、これを使用することで動作が遅くなるのであれば、現環境では使用しないことが賢い選択といえると考える。"
   ]
  }
 ],
 "metadata": {
  "kernelspec": {
   "display_name": "Python 2",
   "language": "python",
   "name": "python2"
  },
  "language_info": {
   "codemirror_mode": {
    "name": "ipython",
    "version": 2
   },
   "file_extension": ".py",
   "mimetype": "text/x-python",
   "name": "python",
   "nbconvert_exporter": "python",
   "pygments_lexer": "ipython2",
   "version": "2.7.6"
  }
 },
 "nbformat": 4,
 "nbformat_minor": 2
}
