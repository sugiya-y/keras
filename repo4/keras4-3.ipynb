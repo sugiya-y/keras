{
 "cells": [
  {
   "cell_type": "raw",
   "metadata": {},
   "source": [
    "この課題では、\n",
    "B4泉のコード\n",
    "https://github.com/izumi-y/Keras/blob/master/repo4/keras4-3.ipynb\n",
    "を参考にした"
   ]
  },
  {
   "cell_type": "code",
   "execution_count": 1,
   "metadata": {},
   "outputs": [
    {
     "name": "stderr",
     "output_type": "stream",
     "text": [
      "Using TensorFlow backend.\n"
     ]
    }
   ],
   "source": [
    "from keras.utils.np_utils import to_categorical\n",
    "import keras\n",
    "import numpy as np\n",
    "from PIL import Image\n",
    "import os\n",
    "import matplotlib.pyplot as plt\n",
    "from keras.applications.vgg16 import VGG16\n",
    "from keras.models import Sequential, Model\n",
    "from keras.layers import Activation, Dropout, Flatten, Dense, Input\n",
    "from keras.optimizers import Adam\n",
    "from keras import optimizers\n",
    "\n",
    "%matplotlib inline"
   ]
  },
  {
   "cell_type": "code",
   "execution_count": 2,
   "metadata": {},
   "outputs": [],
   "source": [
    "x_train = []\n",
    "y_train = []\n",
    "\n",
    "for dir in os.listdir(\"/home/yanai-lab/sugiya-y/space/study/keras/repo4/data/train\"):\n",
    "    if dir == \".DS_Store\":\n",
    "        continue\n",
    "        \n",
    "    dir1 = \"/home/yanai-lab/sugiya-y/space/study/keras/repo4/data/train/\" + dir\n",
    "    label = 0\n",
    "    \n",
    "    if dir == \"cats\":\n",
    "        label = 0\n",
    "    elif dir == \"dogs\":\n",
    "        label = 1\n",
    "        \n",
    "    for file in os.listdir(dir1):\n",
    "        if file != \".DS_Store\":\n",
    "            y_train.append(label)\n",
    "            filepath = dir1 + \"/\" + file\n",
    "            image = np.array(Image.open(filepath).resize((150, 150)))\n",
    "            image = image.astype(\"float32\")\n",
    "            x_train.append(image / 255.)\n",
    "            \n",
    "x_train = np.array(x_train)\n",
    "Y_train = to_categorical(y_train)"
   ]
  },
  {
   "cell_type": "code",
   "execution_count": 3,
   "metadata": {},
   "outputs": [],
   "source": [
    "x_test = []\n",
    "y_test = []\n",
    "\n",
    "for dir in os.listdir(\"/home/yanai-lab/sugiya-y/space/study/keras/repo4/data/validation\"):\n",
    "    if dir == \".DS_Store\":\n",
    "        continue\n",
    "        \n",
    "    dir2 = \"/home/yanai-lab/sugiya-y/space/study/keras/repo4/data/validation/\" + dir\n",
    "    label = 0\n",
    "    \n",
    "    if dir == \"cats\":\n",
    "        label = 0\n",
    "    elif dir == \"dogs\":\n",
    "        label = 1\n",
    "        \n",
    "    for file in os.listdir(dir2):\n",
    "        if file != \".DS_Store\":\n",
    "            y_test.append(label)\n",
    "            filepath = dir2 + \"/\" + file\n",
    "            image = np.array(Image.open(filepath).resize((150, 150)))\n",
    "            image = image.astype(\"float32\")\n",
    "            x_test.append(image / 255.)\n",
    "            \n",
    "x_test = np.array(x_test)\n",
    "Y_test = to_categorical(y_test)\n"
   ]
  },
  {
   "cell_type": "code",
   "execution_count": 4,
   "metadata": {},
   "outputs": [],
   "source": [
    "\n",
    "\n",
    "input_tensor = Input(shape=(150, 150, 3))\n",
    "vgg16_model = VGG16(include_top=False, weights='imagenet', input_tensor=input_tensor)\n",
    "\n"
   ]
  },
  {
   "cell_type": "code",
   "execution_count": 5,
   "metadata": {},
   "outputs": [],
   "source": [
    "top_model = Sequential()\n",
    "top_model.add(Flatten(input_shape=vgg16_model.output_shape[1:]))\n",
    "top_model.add(Dense(256))\n",
    "top_model.add(Activation('relu'))\n",
    "top_model.add(Dropout(0.5))\n",
    "top_model.add(Dense(2))\n",
    "top_model.add(Activation('softmax'))"
   ]
  },
  {
   "cell_type": "code",
   "execution_count": 6,
   "metadata": {},
   "outputs": [],
   "source": [
    "\n",
    "\n",
    "model = Model(inputs=vgg16_model.input, outputs=top_model(vgg16_model.output))\n",
    "\n"
   ]
  },
  {
   "cell_type": "code",
   "execution_count": 7,
   "metadata": {},
   "outputs": [
    {
     "name": "stdout",
     "output_type": "stream",
     "text": [
      "_________________________________________________________________\n",
      "Layer (type)                 Output Shape              Param #   \n",
      "=================================================================\n",
      "input_1 (InputLayer)         (None, 150, 150, 3)       0         \n",
      "_________________________________________________________________\n",
      "block1_conv1 (Conv2D)        (None, 150, 150, 64)      1792      \n",
      "_________________________________________________________________\n",
      "block1_conv2 (Conv2D)        (None, 150, 150, 64)      36928     \n",
      "_________________________________________________________________\n",
      "block1_pool (MaxPooling2D)   (None, 75, 75, 64)        0         \n",
      "_________________________________________________________________\n",
      "block2_conv1 (Conv2D)        (None, 75, 75, 128)       73856     \n",
      "_________________________________________________________________\n",
      "block2_conv2 (Conv2D)        (None, 75, 75, 128)       147584    \n",
      "_________________________________________________________________\n",
      "block2_pool (MaxPooling2D)   (None, 37, 37, 128)       0         \n",
      "_________________________________________________________________\n",
      "block3_conv1 (Conv2D)        (None, 37, 37, 256)       295168    \n",
      "_________________________________________________________________\n",
      "block3_conv2 (Conv2D)        (None, 37, 37, 256)       590080    \n",
      "_________________________________________________________________\n",
      "block3_conv3 (Conv2D)        (None, 37, 37, 256)       590080    \n",
      "_________________________________________________________________\n",
      "block3_pool (MaxPooling2D)   (None, 18, 18, 256)       0         \n",
      "_________________________________________________________________\n",
      "block4_conv1 (Conv2D)        (None, 18, 18, 512)       1180160   \n",
      "_________________________________________________________________\n",
      "block4_conv2 (Conv2D)        (None, 18, 18, 512)       2359808   \n",
      "_________________________________________________________________\n",
      "block4_conv3 (Conv2D)        (None, 18, 18, 512)       2359808   \n",
      "_________________________________________________________________\n",
      "block4_pool (MaxPooling2D)   (None, 9, 9, 512)         0         \n",
      "_________________________________________________________________\n",
      "block5_conv1 (Conv2D)        (None, 9, 9, 512)         2359808   \n",
      "_________________________________________________________________\n",
      "block5_conv2 (Conv2D)        (None, 9, 9, 512)         2359808   \n",
      "_________________________________________________________________\n",
      "block5_conv3 (Conv2D)        (None, 9, 9, 512)         2359808   \n",
      "_________________________________________________________________\n",
      "block5_pool (MaxPooling2D)   (None, 4, 4, 512)         0         \n",
      "_________________________________________________________________\n",
      "sequential_1 (Sequential)    (None, 2)                 2097922   \n",
      "=================================================================\n",
      "Total params: 16,812,610\n",
      "Trainable params: 9,177,346\n",
      "Non-trainable params: 7,635,264\n",
      "_________________________________________________________________\n"
     ]
    }
   ],
   "source": [
    "for layer in model.layers[:15]:\n",
    "    layer.trainable = False\n",
    "    \n",
    "model.summary()"
   ]
  },
  {
   "cell_type": "code",
   "execution_count": 8,
   "metadata": {},
   "outputs": [],
   "source": [
    "model.compile(loss='binary_crossentropy',                 \n",
    "                optimizer=optimizers.SGD(lr=1e-4, momentum=0.9),\n",
    "                metrics=['accuracy'])"
   ]
  },
  {
   "cell_type": "code",
   "execution_count": 9,
   "metadata": {},
   "outputs": [
    {
     "name": "stdout",
     "output_type": "stream",
     "text": [
      "Train on 1800 samples, validate on 200 samples\n",
      "Epoch 1/20\n",
      "8s - loss: 0.7526 - acc: 0.6139 - val_loss: 0.6426 - val_acc: 0.6200\n",
      "Epoch 2/20\n",
      "6s - loss: 0.4716 - acc: 0.7767 - val_loss: 0.4049 - val_acc: 0.8250\n",
      "Epoch 3/20\n",
      "6s - loss: 0.3653 - acc: 0.8339 - val_loss: 0.5195 - val_acc: 0.7700\n",
      "Epoch 4/20\n",
      "6s - loss: 0.3208 - acc: 0.8606 - val_loss: 0.2175 - val_acc: 0.9350\n",
      "Epoch 5/20\n",
      "6s - loss: 0.2717 - acc: 0.8844 - val_loss: 0.3382 - val_acc: 0.8600\n",
      "Epoch 6/20\n",
      "6s - loss: 0.2439 - acc: 0.9028 - val_loss: 0.3214 - val_acc: 0.8700\n",
      "Epoch 7/20\n",
      "6s - loss: 0.2241 - acc: 0.9117 - val_loss: 0.2475 - val_acc: 0.8950\n",
      "Epoch 8/20\n",
      "6s - loss: 0.2005 - acc: 0.9211 - val_loss: 0.4389 - val_acc: 0.8050\n",
      "Epoch 9/20\n",
      "6s - loss: 0.1830 - acc: 0.9239 - val_loss: 0.3263 - val_acc: 0.8700\n",
      "Epoch 10/20\n",
      "6s - loss: 0.1681 - acc: 0.9344 - val_loss: 0.3454 - val_acc: 0.8500\n",
      "Epoch 11/20\n",
      "6s - loss: 0.1518 - acc: 0.9400 - val_loss: 0.1946 - val_acc: 0.9250\n",
      "Epoch 12/20\n",
      "6s - loss: 0.1409 - acc: 0.9494 - val_loss: 0.2276 - val_acc: 0.9200\n",
      "Epoch 13/20\n",
      "6s - loss: 0.1331 - acc: 0.9506 - val_loss: 0.2433 - val_acc: 0.8950\n",
      "Epoch 14/20\n",
      "6s - loss: 0.1157 - acc: 0.9533 - val_loss: 0.2193 - val_acc: 0.9200\n",
      "Epoch 15/20\n",
      "6s - loss: 0.1081 - acc: 0.9622 - val_loss: 0.2560 - val_acc: 0.9050\n",
      "Epoch 16/20\n",
      "6s - loss: 0.0980 - acc: 0.9622 - val_loss: 0.3137 - val_acc: 0.8650\n",
      "Epoch 17/20\n",
      "6s - loss: 0.0960 - acc: 0.9672 - val_loss: 0.2500 - val_acc: 0.9000\n",
      "Epoch 18/20\n",
      "6s - loss: 0.0830 - acc: 0.9761 - val_loss: 0.1944 - val_acc: 0.9150\n",
      "Epoch 19/20\n",
      "6s - loss: 0.0815 - acc: 0.9700 - val_loss: 0.2635 - val_acc: 0.8900\n",
      "Epoch 20/20\n",
      "6s - loss: 0.0734 - acc: 0.9756 - val_loss: 0.1864 - val_acc: 0.9250\n"
     ]
    }
   ],
   "source": [
    "batch_size = 32\n",
    "epochs = 20\n",
    "history = model.fit(x_train, Y_train,\n",
    "                            batch_size=batch_size,\n",
    "                            epochs=epochs,\n",
    "                            validation_split=0.1,\n",
    "                            verbose=2)"
   ]
  },
  {
   "cell_type": "code",
   "execution_count": 10,
   "metadata": {},
   "outputs": [
    {
     "data": {
      "image/png": "[encoded data removed]",
      "text/plain": [
       "<matplotlib.figure.Figure at 0x7f1a3f87f850>"
      ]
     },
     "metadata": {},
     "output_type": "display_data"
    },
    {
     "data": {
      "image/png": "[encoded data removed]",
      "text/plain": [
       "<matplotlib.figure.Figure at 0x7f1a3f8a39d0>"
      ]
     },
     "metadata": {},
     "output_type": "display_data"
    }
   ],
   "source": [
    "\n",
    "\n",
    "#正答率\n",
    "plt.plot(history.history['acc'])\n",
    "plt.plot(history.history['val_acc'])\n",
    "plt.title('model accuracy')\n",
    "plt.ylabel('accuracy')\n",
    "plt.xlabel('epoch')\n",
    "plt.legend(['train', 'val'], loc='upper left')\n",
    "plt.show()\n",
    "#loss\n",
    "plt.plot(history.history['loss'])\n",
    "plt.plot(history.history['val_loss'])\n",
    "plt.title('model loss')\n",
    "plt.ylabel('loss')\n",
    "plt.xlabel('epoch')\n",
    "plt.legend(['train', 'val'], loc='upper left')\n",
    "plt.show()\n",
    "\n"
   ]
  },
  {
   "cell_type": "code",
   "execution_count": 11,
   "metadata": {},
   "outputs": [
    {
     "name": "stdout",
     "output_type": "stream",
     "text": [
      "accuracy: 0.9325\n"
     ]
    }
   ],
   "source": [
    "\n",
    "\n",
    "_, acc = model.evaluate(x_test, Y_test, verbose=0)\n",
    "print('accuracy: {}'.format(acc))\n",
    "\n"
   ]
  },
  {
   "cell_type": "code",
   "execution_count": null,
   "metadata": {},
   "outputs": [],
   "source": []
  }
 ],
 "metadata": {
  "kernelspec": {
   "display_name": "Python 2",
   "language": "python",
   "name": "python2"
  },
  "language_info": {
   "codemirror_mode": {
    "name": "ipython",
    "version": 2
   },
   "file_extension": ".py",
   "mimetype": "text/x-python",
   "name": "python",
   "nbconvert_exporter": "python",
   "pygments_lexer": "ipython2",
   "version": "2.7.6"
  }
 },
 "nbformat": 4,
 "nbformat_minor": 2
}
