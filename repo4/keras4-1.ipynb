{
 "cells": [
  {
   "cell_type": "raw",
   "metadata": {},
   "source": [
    "この課題では、\n",
    "人工知能に関する断創録\n",
    "http://aidiary.hatenablog.com/entry/20170108/1483876657\n",
    "を参考にした\n",
    "変更点は、実行するエポック数(nb_epoch)を50から20にした。画像サイズを150x150から32x32に変更した。"
   ]
  },
  {
   "cell_type": "code",
   "execution_count": 1,
   "metadata": {},
   "outputs": [
    {
     "name": "stderr",
     "output_type": "stream",
     "text": [
      "Using TensorFlow backend.\n"
     ]
    }
   ],
   "source": [
    "import os\n",
    "from keras.models import Sequential\n",
    "from keras.layers import Convolution2D, MaxPooling2D\n",
    "from keras.layers import Activation, Dropout, Flatten, Dense\n",
    "from keras.preprocessing.image import ImageDataGenerator"
   ]
  },
  {
   "cell_type": "code",
   "execution_count": 2,
   "metadata": {},
   "outputs": [],
   "source": [
    "nb_epoch = 20\n",
    "\n",
    "result_dir = '/home/yanai-lab/sugiya-y/space/study/keras/repo4/results'\n",
    "if not os.path.exists(result_dir):\n",
    "    os.mkdir(result_dir)"
   ]
  },
  {
   "cell_type": "code",
   "execution_count": 3,
   "metadata": {},
   "outputs": [],
   "source": [
    "def save_history(history, result_file):\n",
    "    loss = history.history['loss']\n",
    "    acc = history.history['acc']\n",
    "    val_loss = history.history['val_loss']\n",
    "    val_acc = history.history['val_acc']\n",
    "    nb_epoch = len(acc)\n",
    "\n",
    "    with open(result_file, \"w\") as fp:\n",
    "        fp.write(\"epoch\\tloss\\tacc\\tval_loss\\tval_acc\\n\")\n",
    "        for i in range(nb_epoch):\n",
    "            fp.write(\"%d\\t%f\\t%f\\t%f\\t%f\\n\" % (i, loss[i], acc[i], val_loss[i], val_acc[i]))"
   ]
  },
  {
   "cell_type": "code",
   "execution_count": 4,
   "metadata": {},
   "outputs": [
    {
     "name": "stdout",
     "output_type": "stream",
     "text": [
      "_________________________________________________________________\n",
      "Layer (type)                 Output Shape              Param #   \n",
      "=================================================================\n",
      "conv2d_1 (Conv2D)            (None, 30, 30, 32)        896       \n",
      "_________________________________________________________________\n",
      "activation_1 (Activation)    (None, 30, 30, 32)        0         \n",
      "_________________________________________________________________\n",
      "max_pooling2d_1 (MaxPooling2 (None, 15, 15, 32)        0         \n",
      "_________________________________________________________________\n",
      "conv2d_2 (Conv2D)            (None, 13, 13, 32)        9248      \n",
      "_________________________________________________________________\n",
      "activation_2 (Activation)    (None, 13, 13, 32)        0         \n",
      "_________________________________________________________________\n",
      "max_pooling2d_2 (MaxPooling2 (None, 6, 6, 32)          0         \n",
      "_________________________________________________________________\n",
      "conv2d_3 (Conv2D)            (None, 4, 4, 64)          18496     \n",
      "_________________________________________________________________\n",
      "activation_3 (Activation)    (None, 4, 4, 64)          0         \n",
      "_________________________________________________________________\n",
      "max_pooling2d_3 (MaxPooling2 (None, 2, 2, 64)          0         \n",
      "_________________________________________________________________\n",
      "flatten_1 (Flatten)          (None, 256)               0         \n",
      "_________________________________________________________________\n",
      "dense_1 (Dense)              (None, 64)                16448     \n",
      "_________________________________________________________________\n",
      "activation_4 (Activation)    (None, 64)                0         \n",
      "_________________________________________________________________\n",
      "dropout_1 (Dropout)          (None, 64)                0         \n",
      "_________________________________________________________________\n",
      "dense_2 (Dense)              (None, 1)                 65        \n",
      "_________________________________________________________________\n",
      "activation_5 (Activation)    (None, 1)                 0         \n",
      "=================================================================\n",
      "Total params: 45,153\n",
      "Trainable params: 45,153\n",
      "Non-trainable params: 0\n",
      "_________________________________________________________________\n"
     ]
    },
    {
     "name": "stderr",
     "output_type": "stream",
     "text": [
      "/usr/local/lib/python2.7/dist-packages/ipykernel_launcher.py:4: UserWarning: Update your `Conv2D` call to the Keras 2 API: `Conv2D(32, (3, 3), input_shape=(32, 32, 3...)`\n",
      "  after removing the cwd from sys.path.\n",
      "/usr/local/lib/python2.7/dist-packages/ipykernel_launcher.py:8: UserWarning: Update your `Conv2D` call to the Keras 2 API: `Conv2D(32, (3, 3))`\n",
      "  \n",
      "/usr/local/lib/python2.7/dist-packages/ipykernel_launcher.py:12: UserWarning: Update your `Conv2D` call to the Keras 2 API: `Conv2D(64, (3, 3))`\n",
      "  if sys.path[0] == '':\n"
     ]
    }
   ],
   "source": [
    "if __name__ == '__main__':\n",
    "    # モデルを構築\n",
    "    model = Sequential()\n",
    "    model.add(Convolution2D(32, 3, 3, input_shape=(32, 32, 3)))\n",
    "    model.add(Activation('relu'))\n",
    "    model.add(MaxPooling2D(pool_size=(2, 2)))\n",
    "\n",
    "    model.add(Convolution2D(32, 3, 3))\n",
    "    model.add(Activation('relu'))\n",
    "    model.add(MaxPooling2D(pool_size=(2, 2)))\n",
    "\n",
    "    model.add(Convolution2D(64, 3, 3))\n",
    "    model.add(Activation('relu'))\n",
    "    model.add(MaxPooling2D(pool_size=(2, 2)))\n",
    "\n",
    "    model.add(Flatten())\n",
    "    model.add(Dense(64))\n",
    "    model.add(Activation('relu'))\n",
    "    model.add(Dropout(0.5))\n",
    "    model.add(Dense(1))\n",
    "    model.add(Activation('sigmoid'))\n",
    "\n",
    "    model.compile(loss='binary_crossentropy',\n",
    "                  optimizer='adam',\n",
    "                  metrics=['accuracy'])\n",
    "\n",
    "    model.summary()"
   ]
  },
  {
   "cell_type": "code",
   "execution_count": 5,
   "metadata": {},
   "outputs": [
    {
     "name": "stdout",
     "output_type": "stream",
     "text": [
      "Found 2000 images belonging to 2 classes.\n",
      "Found 800 images belonging to 2 classes.\n"
     ]
    }
   ],
   "source": [
    "    # 訓練データとバリデーションデータを生成するジェネレータを作成\n",
    "    train_datagen = ImageDataGenerator(\n",
    "        rescale=1.0 / 255,\n",
    "        shear_range=0.2,\n",
    "        zoom_range=0.2,\n",
    "        horizontal_flip=True)\n",
    "\n",
    "    test_datagen = ImageDataGenerator(rescale=1.0 / 255)\n",
    "\n",
    "    train_generator = train_datagen.flow_from_directory(\n",
    "        '/home/yanai-lab/sugiya-y/space/study/keras/repo4/data/train',\n",
    "        target_size=(32, 32),\n",
    "        batch_size=32,\n",
    "        class_mode='binary')\n",
    "\n",
    "    validation_generator = test_datagen.flow_from_directory(\n",
    "        '/home/yanai-lab/sugiya-y/space/study/keras/repo4/data/validation',\n",
    "        target_size=(32, 32),\n",
    "        batch_size=32,\n",
    "        class_mode='binary')\n"
   ]
  },
  {
   "cell_type": "code",
   "execution_count": 6,
   "metadata": {},
   "outputs": [
    {
     "name": "stderr",
     "output_type": "stream",
     "text": [
      "/usr/local/lib/python2.7/dist-packages/ipykernel_launcher.py:8: UserWarning: Update your `fit_generator` call to the Keras 2 API: `fit_generator(<keras.pre..., verbose=2, validation_data=<keras.pre..., steps_per_epoch=62, epochs=20, validation_steps=800)`\n",
      "  \n"
     ]
    },
    {
     "name": "stdout",
     "output_type": "stream",
     "text": [
      "Epoch 1/20\n",
      "99s - loss: 0.6943 - acc: 0.4995 - val_loss: 0.6925 - val_acc: 0.5038\n",
      "Epoch 2/20\n",
      "94s - loss: 0.6919 - acc: 0.5106 - val_loss: 0.6896 - val_acc: 0.5011\n",
      "Epoch 3/20\n",
      "95s - loss: 0.6840 - acc: 0.5514 - val_loss: 0.6866 - val_acc: 0.5256\n",
      "Epoch 4/20\n",
      "95s - loss: 0.6819 - acc: 0.5691 - val_loss: 0.6625 - val_acc: 0.5938\n",
      "Epoch 5/20\n",
      "94s - loss: 0.6542 - acc: 0.6265 - val_loss: 0.6498 - val_acc: 0.6115\n",
      "Epoch 6/20\n",
      "95s - loss: 0.6577 - acc: 0.6134 - val_loss: 0.6560 - val_acc: 0.5909\n",
      "Epoch 7/20\n",
      "94s - loss: 0.6405 - acc: 0.6361 - val_loss: 0.6346 - val_acc: 0.6362\n",
      "Epoch 8/20\n",
      "95s - loss: 0.6334 - acc: 0.6447 - val_loss: 0.6385 - val_acc: 0.6267\n",
      "Epoch 9/20\n",
      "94s - loss: 0.6195 - acc: 0.6633 - val_loss: 0.6131 - val_acc: 0.6736\n",
      "Epoch 10/20\n",
      "93s - loss: 0.6206 - acc: 0.6638 - val_loss: 0.6510 - val_acc: 0.6038\n",
      "Epoch 11/20\n",
      "94s - loss: 0.6003 - acc: 0.6895 - val_loss: 0.5914 - val_acc: 0.6803\n",
      "Epoch 12/20\n",
      "94s - loss: 0.5900 - acc: 0.6749 - val_loss: 0.5886 - val_acc: 0.6825\n",
      "Epoch 13/20\n",
      "96s - loss: 0.5598 - acc: 0.7178 - val_loss: 0.5865 - val_acc: 0.6814\n",
      "Epoch 14/20\n",
      "96s - loss: 0.5695 - acc: 0.7082 - val_loss: 0.6034 - val_acc: 0.6641\n",
      "Epoch 15/20\n",
      "95s - loss: 0.5599 - acc: 0.7092 - val_loss: 0.5972 - val_acc: 0.6552\n",
      "Epoch 16/20\n",
      "96s - loss: 0.5549 - acc: 0.7178 - val_loss: 0.5595 - val_acc: 0.7202\n",
      "Epoch 17/20\n",
      "95s - loss: 0.5479 - acc: 0.7333 - val_loss: 0.5829 - val_acc: 0.6986\n",
      "Epoch 18/20\n",
      "95s - loss: 0.5411 - acc: 0.7309 - val_loss: 0.5963 - val_acc: 0.6714\n",
      "Epoch 19/20\n",
      "95s - loss: 0.5492 - acc: 0.7203 - val_loss: 0.5472 - val_acc: 0.7279\n",
      "Epoch 20/20\n",
      "94s - loss: 0.5077 - acc: 0.7641 - val_loss: 0.5495 - val_acc: 0.7232\n"
     ]
    }
   ],
   "source": [
    "    # 訓練\n",
    "    history = model.fit_generator(\n",
    "        train_generator,\n",
    "        samples_per_epoch=2000,\n",
    "        nb_epoch=nb_epoch,\n",
    "        validation_data=validation_generator,\n",
    "        nb_val_samples=800,\n",
    "        verbose=2)\n",
    "\n",
    "    # 結果を保存\n",
    "    model.save_weights(os.path.join(result_dir, 'smallcnn.h5'))\n",
    "    save_history(history, os.path.join(result_dir, 'history_smallcnn.txt'))"
   ]
  },
  {
   "cell_type": "code",
   "execution_count": 8,
   "metadata": {},
   "outputs": [
    {
     "data": {
      "image/png": "[encoded data removed]",
      "text/plain": [
       "<matplotlib.figure.Figure at 0x7f310d24ffd0>"
      ]
     },
     "metadata": {},
     "output_type": "display_data"
    },
    {
     "data": {
      "image/png": "[encoded data removed]",
      "text/plain": [
       "<matplotlib.figure.Figure at 0x7f3100a9bd50>"
      ]
     },
     "metadata": {},
     "output_type": "display_data"
    }
   ],
   "source": [
    "%matplotlib inline\n",
    "import matplotlib.pyplot as plt\n",
    "\n",
    "plt.plot(history.history['acc'])\n",
    "plt.plot(history.history['val_acc'])\n",
    "plt.title('model accuracy')\n",
    "plt.ylabel('accuracy')\n",
    "plt.xlabel('epoch')\n",
    "plt.legend(['train', 'val'], loc='upper left')\n",
    "plt.show()\n",
    "\n",
    "#loss\n",
    "plt.plot(history.history['loss'])\n",
    "plt.plot(history.history['val_loss'])\n",
    "plt.title('model loss')\n",
    "plt.ylabel('loss')\n",
    "plt.xlabel('epoch')\n",
    "plt.legend(['train', 'val'], loc='upper left')\n",
    "plt.show()"
   ]
  }
 ],
 "metadata": {
  "kernelspec": {
   "display_name": "Python 2",
   "language": "python",
   "name": "python2"
  },
  "language_info": {
   "codemirror_mode": {
    "name": "ipython",
    "version": 2
   },
   "file_extension": ".py",
   "mimetype": "text/x-python",
   "name": "python",
   "nbconvert_exporter": "python",
   "pygments_lexer": "ipython2",
   "version": "2.7.6"
  }
 },
 "nbformat": 4,
 "nbformat_minor": 2
}
